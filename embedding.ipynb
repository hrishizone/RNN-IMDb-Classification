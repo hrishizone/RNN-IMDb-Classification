{
 "cells": [
  {
   "cell_type": "code",
   "execution_count": 2,
   "id": "7221d60f",
   "metadata": {},
   "outputs": [],
   "source": [
    "from tensorflow.keras.preprocessing.text import one_hot"
   ]
  },
  {
   "cell_type": "code",
   "execution_count": 13,
   "id": "5204455e",
   "metadata": {},
   "outputs": [],
   "source": [
    "sent=['I love programming', \n",
    "      'Python is great', \n",
    "      'TensorFlow makes ML easy',\n",
    "      'Keras is user-friendly',\n",
    "      'Deep learning is fascinating',\n",
    "      'Natural Language Processing is amazing',  \n",
    "]"
   ]
  },
  {
   "cell_type": "code",
   "execution_count": 14,
   "id": "d84c5910",
   "metadata": {},
   "outputs": [
    {
     "data": {
      "text/plain": [
       "['I love programming',\n",
       " 'Python is great',\n",
       " 'TensorFlow makes ML easy',\n",
       " 'Keras is user-friendly',\n",
       " 'Deep learning is fascinating',\n",
       " 'Natural Language Processing is amazing']"
      ]
     },
     "execution_count": 14,
     "metadata": {},
     "output_type": "execute_result"
    }
   ],
   "source": [
    "sent"
   ]
  },
  {
   "cell_type": "code",
   "execution_count": 15,
   "id": "31ee84a3",
   "metadata": {},
   "outputs": [],
   "source": [
    "## Define vocabulary size\n",
    "vocab_size = 10000"
   ]
  },
  {
   "cell_type": "code",
   "execution_count": 16,
   "id": "d174a377",
   "metadata": {},
   "outputs": [
    {
     "data": {
      "text/plain": [
       "[[4404, 5058, 7213],\n",
       " [1635, 8540, 3495],\n",
       " [5088, 4002, 2668, 9627],\n",
       " [6596, 8540, 7351, 4419],\n",
       " [8884, 2100, 8540, 9634],\n",
       " [3, 351, 7192, 8540, 4347]]"
      ]
     },
     "execution_count": 16,
     "metadata": {},
     "output_type": "execute_result"
    }
   ],
   "source": [
    "##One hot representation\n",
    "one_hot_repr = [one_hot(sentence, vocab_size) for sentence in sent]\n",
    "one_hot_repr"
   ]
  },
  {
   "cell_type": "code",
   "execution_count": 17,
   "id": "d6d94e5b",
   "metadata": {},
   "outputs": [],
   "source": [
    "## Word embedding representation\n",
    "from tensorflow.keras.layers import Embedding\n",
    "from tensorflow.keras.utils import pad_sequences\n",
    "from tensorflow.keras.models import Sequential\n",
    "import numpy as np"
   ]
  },
  {
   "cell_type": "code",
   "execution_count": 20,
   "id": "bba40fc6",
   "metadata": {},
   "outputs": [],
   "source": [
    "sent_length=6\n",
    "embedded_docs=pad_sequences(one_hot_repr, padding='pre', maxlen=sent_length)"
   ]
  },
  {
   "cell_type": "code",
   "execution_count": 21,
   "id": "cbf20ea1",
   "metadata": {},
   "outputs": [
    {
     "data": {
      "text/plain": [
       "array([[   0,    0,    0, 4404, 5058, 7213],\n",
       "       [   0,    0,    0, 1635, 8540, 3495],\n",
       "       [   0,    0, 5088, 4002, 2668, 9627],\n",
       "       [   0,    0, 6596, 8540, 7351, 4419],\n",
       "       [   0,    0, 8884, 2100, 8540, 9634],\n",
       "       [   0,    3,  351, 7192, 8540, 4347]], dtype=int32)"
      ]
     },
     "execution_count": 21,
     "metadata": {},
     "output_type": "execute_result"
    }
   ],
   "source": [
    "embedded_docs"
   ]
  },
  {
   "cell_type": "code",
   "execution_count": 22,
   "id": "d8802f26",
   "metadata": {},
   "outputs": [],
   "source": [
    "##feature representation\n",
    "dim=10"
   ]
  },
  {
   "cell_type": "code",
   "execution_count": 23,
   "id": "96eb1e26",
   "metadata": {},
   "outputs": [
    {
     "name": "stderr",
     "output_type": "stream",
     "text": [
      "C:\\Users\\hrishizone\\AppData\\Roaming\\Python\\Python313\\site-packages\\keras\\src\\layers\\core\\embedding.py:97: UserWarning: Argument `input_length` is deprecated. Just remove it.\n",
      "  warnings.warn(\n"
     ]
    }
   ],
   "source": [
    "model=Sequential()\n",
    "model.add(Embedding(input_dim=vocab_size, output_dim=dim, input_length=sent_length))\n",
    "model.compile(loss='binary_crossentropy', optimizer='adam', metrics=['accuracy'])\n"
   ]
  },
  {
   "cell_type": "code",
   "execution_count": 24,
   "id": "606725f7",
   "metadata": {},
   "outputs": [
    {
     "data": {
      "text/html": [
       "<pre style=\"white-space:pre;overflow-x:auto;line-height:normal;font-family:Menlo,'DejaVu Sans Mono',consolas,'Courier New',monospace\"><span style=\"font-weight: bold\">Model: \"sequential\"</span>\n",
       "</pre>\n"
      ],
      "text/plain": [
       "\u001b[1mModel: \"sequential\"\u001b[0m\n"
      ]
     },
     "metadata": {},
     "output_type": "display_data"
    },
    {
     "data": {
      "text/html": [
       "<pre style=\"white-space:pre;overflow-x:auto;line-height:normal;font-family:Menlo,'DejaVu Sans Mono',consolas,'Courier New',monospace\">┏━━━━━━━━━━━━━━━━━━━━━━━━━━━━━━━━━┳━━━━━━━━━━━━━━━━━━━━━━━━┳━━━━━━━━━━━━━━━┓\n",
       "┃<span style=\"font-weight: bold\"> Layer (type)                    </span>┃<span style=\"font-weight: bold\"> Output Shape           </span>┃<span style=\"font-weight: bold\">       Param # </span>┃\n",
       "┡━━━━━━━━━━━━━━━━━━━━━━━━━━━━━━━━━╇━━━━━━━━━━━━━━━━━━━━━━━━╇━━━━━━━━━━━━━━━┩\n",
       "│ embedding (<span style=\"color: #0087ff; text-decoration-color: #0087ff\">Embedding</span>)           │ ?                      │   <span style=\"color: #00af00; text-decoration-color: #00af00\">0</span> (unbuilt) │\n",
       "└─────────────────────────────────┴────────────────────────┴───────────────┘\n",
       "</pre>\n"
      ],
      "text/plain": [
       "┏━━━━━━━━━━━━━━━━━━━━━━━━━━━━━━━━━┳━━━━━━━━━━━━━━━━━━━━━━━━┳━━━━━━━━━━━━━━━┓\n",
       "┃\u001b[1m \u001b[0m\u001b[1mLayer (type)                   \u001b[0m\u001b[1m \u001b[0m┃\u001b[1m \u001b[0m\u001b[1mOutput Shape          \u001b[0m\u001b[1m \u001b[0m┃\u001b[1m \u001b[0m\u001b[1m      Param #\u001b[0m\u001b[1m \u001b[0m┃\n",
       "┡━━━━━━━━━━━━━━━━━━━━━━━━━━━━━━━━━╇━━━━━━━━━━━━━━━━━━━━━━━━╇━━━━━━━━━━━━━━━┩\n",
       "│ embedding (\u001b[38;5;33mEmbedding\u001b[0m)           │ ?                      │   \u001b[38;5;34m0\u001b[0m (unbuilt) │\n",
       "└─────────────────────────────────┴────────────────────────┴───────────────┘\n"
      ]
     },
     "metadata": {},
     "output_type": "display_data"
    },
    {
     "data": {
      "text/html": [
       "<pre style=\"white-space:pre;overflow-x:auto;line-height:normal;font-family:Menlo,'DejaVu Sans Mono',consolas,'Courier New',monospace\"><span style=\"font-weight: bold\"> Total params: </span><span style=\"color: #00af00; text-decoration-color: #00af00\">0</span> (0.00 B)\n",
       "</pre>\n"
      ],
      "text/plain": [
       "\u001b[1m Total params: \u001b[0m\u001b[38;5;34m0\u001b[0m (0.00 B)\n"
      ]
     },
     "metadata": {},
     "output_type": "display_data"
    },
    {
     "data": {
      "text/html": [
       "<pre style=\"white-space:pre;overflow-x:auto;line-height:normal;font-family:Menlo,'DejaVu Sans Mono',consolas,'Courier New',monospace\"><span style=\"font-weight: bold\"> Trainable params: </span><span style=\"color: #00af00; text-decoration-color: #00af00\">0</span> (0.00 B)\n",
       "</pre>\n"
      ],
      "text/plain": [
       "\u001b[1m Trainable params: \u001b[0m\u001b[38;5;34m0\u001b[0m (0.00 B)\n"
      ]
     },
     "metadata": {},
     "output_type": "display_data"
    },
    {
     "data": {
      "text/html": [
       "<pre style=\"white-space:pre;overflow-x:auto;line-height:normal;font-family:Menlo,'DejaVu Sans Mono',consolas,'Courier New',monospace\"><span style=\"font-weight: bold\"> Non-trainable params: </span><span style=\"color: #00af00; text-decoration-color: #00af00\">0</span> (0.00 B)\n",
       "</pre>\n"
      ],
      "text/plain": [
       "\u001b[1m Non-trainable params: \u001b[0m\u001b[38;5;34m0\u001b[0m (0.00 B)\n"
      ]
     },
     "metadata": {},
     "output_type": "display_data"
    }
   ],
   "source": [
    "model.summary()"
   ]
  },
  {
   "cell_type": "code",
   "execution_count": 25,
   "id": "6e6730e3",
   "metadata": {},
   "outputs": [
    {
     "name": "stdout",
     "output_type": "stream",
     "text": [
      "\u001b[1m1/1\u001b[0m \u001b[32m━━━━━━━━━━━━━━━━━━━━\u001b[0m\u001b[37m\u001b[0m \u001b[1m0s\u001b[0m 310ms/step\n"
     ]
    },
    {
     "data": {
      "text/plain": [
       "array([[[ 1.11048445e-02, -1.87046453e-03, -1.62922032e-02,\n",
       "          3.34967263e-02, -1.06814876e-02,  4.66717593e-02,\n",
       "         -4.42469008e-02,  2.84818299e-02, -2.24823840e-02,\n",
       "         -4.02006507e-02],\n",
       "        [ 1.11048445e-02, -1.87046453e-03, -1.62922032e-02,\n",
       "          3.34967263e-02, -1.06814876e-02,  4.66717593e-02,\n",
       "         -4.42469008e-02,  2.84818299e-02, -2.24823840e-02,\n",
       "         -4.02006507e-02],\n",
       "        [ 1.11048445e-02, -1.87046453e-03, -1.62922032e-02,\n",
       "          3.34967263e-02, -1.06814876e-02,  4.66717593e-02,\n",
       "         -4.42469008e-02,  2.84818299e-02, -2.24823840e-02,\n",
       "         -4.02006507e-02],\n",
       "        [ 9.11734253e-03,  4.40598391e-02, -1.85491890e-03,\n",
       "          1.93732865e-02, -3.88792530e-02, -2.16577295e-02,\n",
       "          2.17468999e-02, -4.10689823e-02,  2.41721384e-02,\n",
       "          4.31368835e-02],\n",
       "        [-2.79995333e-02, -4.80051748e-02,  4.07641269e-02,\n",
       "          3.96583341e-02, -1.50282308e-03, -4.62722071e-02,\n",
       "         -2.73258444e-02, -3.97443883e-02, -5.08849695e-03,\n",
       "          1.71469115e-02],\n",
       "        [-1.25637166e-02,  4.88905795e-02,  2.52654292e-02,\n",
       "         -3.83535139e-02,  3.36361267e-02, -1.73030049e-03,\n",
       "         -4.94846962e-02, -4.38732281e-02,  3.43867056e-02,\n",
       "         -3.29084396e-02]],\n",
       "\n",
       "       [[ 1.11048445e-02, -1.87046453e-03, -1.62922032e-02,\n",
       "          3.34967263e-02, -1.06814876e-02,  4.66717593e-02,\n",
       "         -4.42469008e-02,  2.84818299e-02, -2.24823840e-02,\n",
       "         -4.02006507e-02],\n",
       "        [ 1.11048445e-02, -1.87046453e-03, -1.62922032e-02,\n",
       "          3.34967263e-02, -1.06814876e-02,  4.66717593e-02,\n",
       "         -4.42469008e-02,  2.84818299e-02, -2.24823840e-02,\n",
       "         -4.02006507e-02],\n",
       "        [ 1.11048445e-02, -1.87046453e-03, -1.62922032e-02,\n",
       "          3.34967263e-02, -1.06814876e-02,  4.66717593e-02,\n",
       "         -4.42469008e-02,  2.84818299e-02, -2.24823840e-02,\n",
       "         -4.02006507e-02],\n",
       "        [-3.73519175e-02, -9.94705036e-03, -1.96504351e-02,\n",
       "          2.93675922e-02,  3.44748423e-03, -1.29256025e-02,\n",
       "         -4.00612727e-02,  4.79194634e-02, -4.56546545e-02,\n",
       "          3.40901650e-02],\n",
       "        [-6.34888560e-03, -3.14754024e-02,  3.02130468e-02,\n",
       "          2.91615464e-02, -2.29992867e-02,  1.82820074e-02,\n",
       "         -2.02219617e-02, -1.20632276e-02,  1.71482451e-02,\n",
       "         -2.32636929e-04],\n",
       "        [ 4.40841354e-02,  4.52539660e-02,  7.40534067e-03,\n",
       "          4.13929559e-02,  7.87266344e-03, -3.80140916e-02,\n",
       "          1.79265253e-02,  2.14475058e-02,  5.73337078e-04,\n",
       "         -3.68046276e-02]],\n",
       "\n",
       "       [[ 1.11048445e-02, -1.87046453e-03, -1.62922032e-02,\n",
       "          3.34967263e-02, -1.06814876e-02,  4.66717593e-02,\n",
       "         -4.42469008e-02,  2.84818299e-02, -2.24823840e-02,\n",
       "         -4.02006507e-02],\n",
       "        [ 1.11048445e-02, -1.87046453e-03, -1.62922032e-02,\n",
       "          3.34967263e-02, -1.06814876e-02,  4.66717593e-02,\n",
       "         -4.42469008e-02,  2.84818299e-02, -2.24823840e-02,\n",
       "         -4.02006507e-02],\n",
       "        [ 3.95951904e-02,  1.07098334e-02, -1.37826428e-02,\n",
       "         -3.02728415e-02,  3.84917893e-02,  2.48188898e-03,\n",
       "         -2.78474223e-02,  1.84321292e-02, -4.64642644e-02,\n",
       "         -3.02650817e-02],\n",
       "        [ 7.98419863e-03, -1.95714086e-03, -3.37492824e-02,\n",
       "          1.44763924e-02,  4.34657671e-02, -3.70796435e-02,\n",
       "         -1.65751204e-02,  2.46546529e-02, -2.57413629e-02,\n",
       "          1.76329874e-02],\n",
       "        [-2.11914182e-02,  1.88766792e-03,  2.29340307e-02,\n",
       "         -4.94214408e-02, -2.83293799e-03,  8.79489258e-03,\n",
       "         -2.55293734e-02,  1.80510990e-02, -1.39117837e-02,\n",
       "         -4.82182279e-02],\n",
       "        [-3.20663303e-03,  2.83837356e-02, -3.53542715e-03,\n",
       "         -3.70753892e-02, -7.13515282e-03, -2.51451265e-02,\n",
       "          4.28500436e-02,  4.00750376e-02, -4.87019867e-03,\n",
       "         -3.98652181e-02]],\n",
       "\n",
       "       [[ 1.11048445e-02, -1.87046453e-03, -1.62922032e-02,\n",
       "          3.34967263e-02, -1.06814876e-02,  4.66717593e-02,\n",
       "         -4.42469008e-02,  2.84818299e-02, -2.24823840e-02,\n",
       "         -4.02006507e-02],\n",
       "        [ 1.11048445e-02, -1.87046453e-03, -1.62922032e-02,\n",
       "          3.34967263e-02, -1.06814876e-02,  4.66717593e-02,\n",
       "         -4.42469008e-02,  2.84818299e-02, -2.24823840e-02,\n",
       "         -4.02006507e-02],\n",
       "        [ 6.22021034e-03,  3.97549905e-02, -2.30952986e-02,\n",
       "          1.30270459e-02,  2.34993733e-02, -1.25560537e-02,\n",
       "          9.87334177e-03, -3.14683914e-02,  2.89023779e-02,\n",
       "         -8.90431553e-03],\n",
       "        [-6.34888560e-03, -3.14754024e-02,  3.02130468e-02,\n",
       "          2.91615464e-02, -2.29992867e-02,  1.82820074e-02,\n",
       "         -2.02219617e-02, -1.20632276e-02,  1.71482451e-02,\n",
       "         -2.32636929e-04],\n",
       "        [-1.57958269e-02, -1.81963816e-02, -4.95511889e-02,\n",
       "          4.35246937e-02, -4.05432209e-02,  8.61029699e-03,\n",
       "          4.47249748e-02,  4.63419668e-02,  4.04254086e-02,\n",
       "         -5.62586635e-03],\n",
       "        [-4.08941507e-03,  7.72321224e-03,  3.02872173e-02,\n",
       "          3.64184268e-02,  1.66197456e-02, -4.92399931e-02,\n",
       "         -1.58056505e-02,  6.01679087e-03, -4.39771526e-02,\n",
       "         -7.22907856e-03]],\n",
       "\n",
       "       [[ 1.11048445e-02, -1.87046453e-03, -1.62922032e-02,\n",
       "          3.34967263e-02, -1.06814876e-02,  4.66717593e-02,\n",
       "         -4.42469008e-02,  2.84818299e-02, -2.24823840e-02,\n",
       "         -4.02006507e-02],\n",
       "        [ 1.11048445e-02, -1.87046453e-03, -1.62922032e-02,\n",
       "          3.34967263e-02, -1.06814876e-02,  4.66717593e-02,\n",
       "         -4.42469008e-02,  2.84818299e-02, -2.24823840e-02,\n",
       "         -4.02006507e-02],\n",
       "        [-1.05965845e-02,  4.51137461e-02,  9.13441181e-03,\n",
       "         -2.40360852e-02,  4.27860022e-03, -2.89772879e-02,\n",
       "         -7.24264234e-03,  2.43588127e-02, -4.79355343e-02,\n",
       "          2.63237022e-02],\n",
       "        [-3.50112319e-02,  6.66885450e-03,  8.03363323e-03,\n",
       "         -3.82804275e-02,  2.00549476e-02,  1.80963613e-02,\n",
       "         -7.96735287e-03,  4.37877066e-02, -4.00347933e-02,\n",
       "         -3.44582647e-03],\n",
       "        [-6.34888560e-03, -3.14754024e-02,  3.02130468e-02,\n",
       "          2.91615464e-02, -2.29992867e-02,  1.82820074e-02,\n",
       "         -2.02219617e-02, -1.20632276e-02,  1.71482451e-02,\n",
       "         -2.32636929e-04],\n",
       "        [-3.52841020e-02, -4.20149788e-02, -2.84269098e-02,\n",
       "         -1.19354948e-02,  2.55690850e-02, -9.21840593e-03,\n",
       "         -2.25293394e-02,  2.08202265e-02,  2.93740891e-02,\n",
       "         -4.71351519e-02]],\n",
       "\n",
       "       [[ 1.11048445e-02, -1.87046453e-03, -1.62922032e-02,\n",
       "          3.34967263e-02, -1.06814876e-02,  4.66717593e-02,\n",
       "         -4.42469008e-02,  2.84818299e-02, -2.24823840e-02,\n",
       "         -4.02006507e-02],\n",
       "        [ 1.57904513e-02, -3.69068980e-02,  1.91621222e-02,\n",
       "         -3.32373008e-02,  4.85692061e-02,  2.34551914e-02,\n",
       "         -9.73650068e-03, -6.55089691e-03, -1.98998805e-02,\n",
       "         -1.01473108e-02],\n",
       "        [-2.99617182e-02, -4.46553007e-02,  1.79894231e-02,\n",
       "          3.10684368e-03,  1.65832974e-02, -2.96116360e-02,\n",
       "          1.26344226e-02,  3.37528326e-02,  3.27102803e-02,\n",
       "         -5.94889000e-03],\n",
       "        [ 2.29159109e-02, -3.92317884e-02,  1.35041960e-02,\n",
       "         -3.89590859e-05,  2.75895111e-02,  4.71750163e-02,\n",
       "          2.22757496e-02, -3.32689434e-02,  3.68788280e-02,\n",
       "         -2.96736117e-02],\n",
       "        [-6.34888560e-03, -3.14754024e-02,  3.02130468e-02,\n",
       "          2.91615464e-02, -2.29992867e-02,  1.82820074e-02,\n",
       "         -2.02219617e-02, -1.20632276e-02,  1.71482451e-02,\n",
       "         -2.32636929e-04],\n",
       "        [ 1.34095885e-02,  3.65045182e-02,  3.24426554e-02,\n",
       "         -4.19441238e-02, -3.35382968e-02, -4.40641493e-03,\n",
       "         -2.19779965e-02,  2.23456137e-02,  2.46727578e-02,\n",
       "         -2.31558681e-02]]], dtype=float32)"
      ]
     },
     "execution_count": 25,
     "metadata": {},
     "output_type": "execute_result"
    }
   ],
   "source": [
    "model.predict(embedded_docs)"
   ]
  },
  {
   "cell_type": "code",
   "execution_count": 26,
   "id": "e7f5039f",
   "metadata": {},
   "outputs": [
    {
     "data": {
      "text/plain": [
       "array([   0,    0,    0, 4404, 5058, 7213], dtype=int32)"
      ]
     },
     "execution_count": 26,
     "metadata": {},
     "output_type": "execute_result"
    }
   ],
   "source": [
    "embedded_docs[0]"
   ]
  },
  {
   "cell_type": "code",
   "execution_count": null,
   "id": "35757bfb",
   "metadata": {},
   "outputs": [],
   "source": []
  }
 ],
 "metadata": {
  "kernelspec": {
   "display_name": "Python 3",
   "language": "python",
   "name": "python3"
  },
  "language_info": {
   "codemirror_mode": {
    "name": "ipython",
    "version": 3
   },
   "file_extension": ".py",
   "mimetype": "text/x-python",
   "name": "python",
   "nbconvert_exporter": "python",
   "pygments_lexer": "ipython3",
   "version": "3.13.2"
  }
 },
 "nbformat": 4,
 "nbformat_minor": 5
}
